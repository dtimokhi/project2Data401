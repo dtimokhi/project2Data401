{
 "cells": [
  {
   "cell_type": "code",
   "execution_count": 1,
   "metadata": {},
   "outputs": [],
   "source": [
    "import numpy as np\n",
    "import pandas as pd\n",
    "from sklearn.model_selection import KFold"
   ]
  },
  {
   "cell_type": "code",
   "execution_count": 2,
   "metadata": {},
   "outputs": [],
   "source": [
    "def pad_ones_column(X):\n",
    "    \"\"\"Add columns of ones to a data matrix\"\"\"\n",
    "    return np.c_[ np.ones(len(ORIGINAL_DF)), X ]\n",
    "\n",
    "def estimate_beta(X, y):\n",
    "    \"\"\"Compte estimates for beta given X and y\n",
    "    \n",
    "    Beta = (X^T X)^-1 X^T y\n",
    "    \"\"\"\n",
    "    t1 = np.linalg.inv(np.matmul(X.T, X))\n",
    "    t2 = np.matmul(X.T, y)\n",
    "    return np.matmul(t1, t2)\n",
    "\n",
    "def run_complete_linear_regression(X, y, beta_hat):\n",
    "    \"\"\"Run linear regression and produce error statistics\"\"\"\n",
    "    # Make predictions based on testing data\n",
    "    predicted_y = np.matmul(X, beta_hat)\n",
    "    \n",
    "    # Compute the error from the actual data\n",
    "    errors = np.square(y - predicted_y)\n",
    "    \n",
    "    # Compute mean squared error\n",
    "    MSE = np.mean(errors)\n",
    "    \n",
    "    # Compute sum squared error\n",
    "    SSE = np.sum(errors)\n",
    "\n",
    "    return MSE, SSE\n",
    "\n",
    "def run_k_fold(X, y, n_splits=10, print_stuff=False):\n",
    "    \"\"\"Run k-fold cross validation\"\"\"\n",
    "    kf = KFold(n_splits=n_splits)\n",
    "    storeResultsMSE = []\n",
    "    storeResultsSSE = []\n",
    "\n",
    "    for i, (train_index, test_index) in enumerate(kf.split(X)):\n",
    "        X_train, X_test = X[train_index], X[test_index]\n",
    "        y_train, y_test = y[train_index], y[test_index]\n",
    "\n",
    "        beta_hat = estimate_beta(X_train, y_train)\n",
    "\n",
    "        test_MSE, test_SSE = run_complete_linear_regression(X_test, y_test, beta_hat)\n",
    "\n",
    "        storeResultsMSE.append(test_MSE)\n",
    "        storeResultsSSE.append(test_SSE)\n",
    "        \n",
    "        if print_stuff:\n",
    "            print(\"Iteration:\", i, \"MSE: \", test_MSE, \"SSE:\", test_SSE)  \n",
    "    if print_stuff:\n",
    "        print(\"Average MSE:\", np.mean(storeResultsMSE), \"Average SSE:\", np.mean(storeResultsSSE))\n",
    "    \n",
    "    return np.mean(storeResultsMSE)"
   ]
  },
  {
   "cell_type": "code",
   "execution_count": 3,
   "metadata": {},
   "outputs": [],
   "source": [
    "from sklearn import datasets"
   ]
  },
  {
   "cell_type": "code",
   "execution_count": 4,
   "metadata": {},
   "outputs": [],
   "source": [
    "diabetes = datasets.load_diabetes()\n",
    "X = np.matrix(diabetes.data)\n",
    "y = np.matrix(diabetes.target).T"
   ]
  },
  {
   "cell_type": "code",
   "execution_count": 5,
   "metadata": {},
   "outputs": [
    {
     "name": "stdout",
     "output_type": "stream",
     "text": [
      "Iteration: 0 MSE:  27186.2494606 SSE: 1223381.22573\n",
      "Iteration: 1 MSE:  26253.4576563 SSE: 1181405.59453\n",
      "Iteration: 2 MSE:  29313.8384269 SSE: 1289808.89078\n",
      "Iteration: 3 MSE:  27200.3084226 SSE: 1196813.57059\n",
      "Iteration: 4 MSE:  25036.3190957 SSE: 1101598.04021\n",
      "Iteration: 5 MSE:  27302.712211 SSE: 1201319.33728\n",
      "Iteration: 6 MSE:  30986.7821607 SSE: 1363418.41507\n",
      "Iteration: 7 MSE:  25838.6890476 SSE: 1136902.3181\n",
      "Iteration: 8 MSE:  29982.644804 SSE: 1319236.37137\n",
      "Iteration: 9 MSE:  24756.7550612 SSE: 1089297.22269\n",
      "Average MSE: 27385.7756347 Average SSE: 1210318.09864\n"
     ]
    },
    {
     "data": {
      "text/plain": [
       "27385.775634650414"
      ]
     },
     "execution_count": 5,
     "metadata": {},
     "output_type": "execute_result"
    }
   ],
   "source": [
    "run_k_fold(X, y, 10, True)"
   ]
  },
  {
   "cell_type": "code",
   "execution_count": 31,
   "metadata": {},
   "outputs": [],
   "source": [
    "test_data = pd.read_csv(\"fixed_beer_data.csv\")"
   ]
  },
  {
   "cell_type": "code",
   "execution_count": 32,
   "metadata": {},
   "outputs": [
    {
     "data": {
      "text/plain": [
       "Index(['beer_style', 'beer_name', 'avg_palate', 'avg_aroma', 'avg_overall',\n",
       "       'avg_taste', 'avg_appear', 'count', 'review_palate', 'review_aroma',\n",
       "       'review_taste', 'review_appearance', 'review_overall',\n",
       "       'review_profilename', 'brewery_id'],\n",
       "      dtype='object')"
      ]
     },
     "execution_count": 32,
     "metadata": {},
     "output_type": "execute_result"
    }
   ],
   "source": [
    "test_data.columns"
   ]
  },
  {
   "cell_type": "code",
   "execution_count": 33,
   "metadata": {},
   "outputs": [],
   "source": [
    "y = np.matrix(test_data[['review_overall']])"
   ]
  },
  {
   "cell_type": "code",
   "execution_count": 34,
   "metadata": {},
   "outputs": [],
   "source": [
    "X = np.matrix(test_data.drop([\n",
    "    'beer_style',\n",
    "    'beer_name',\n",
    "    'count',\n",
    "    'review_palate',\n",
    "    'review_aroma',\n",
    "    'review_taste',\n",
    "    'review_appearance',\n",
    "    'review_overall',\n",
    "    'review_profilename',\n",
    "    'brewery_id'\n",
    "], axis = 1))"
   ]
  },
  {
   "cell_type": "code",
   "execution_count": 26,
   "metadata": {},
   "outputs": [
    {
     "name": "stdout",
     "output_type": "stream",
     "text": [
      "Iteration: 0 MSE:  0.380749415182 SSE: 1427.81030693\n",
      "Iteration: 1 MSE:  0.389149900631 SSE: 1459.31212737\n",
      "Iteration: 2 MSE:  0.415899796538 SSE: 1559.62423702\n",
      "Iteration: 3 MSE:  0.382379156874 SSE: 1433.92183828\n",
      "Iteration: 4 MSE:  0.385648735633 SSE: 1446.18275862\n",
      "Iteration: 5 MSE:  0.383382955534 SSE: 1437.68608325\n",
      "Iteration: 6 MSE:  0.3918267125 SSE: 1469.35017187\n",
      "Iteration: 7 MSE:  0.375169973281 SSE: 1406.8873998\n",
      "Iteration: 8 MSE:  0.373794174049 SSE: 1401.72815268\n",
      "Iteration: 9 MSE:  0.367544124607 SSE: 1378.29046727\n",
      "Average MSE: 0.384554494483 Average SSE: 1442.07935431\n"
     ]
    },
    {
     "data": {
      "text/plain": [
       "0.384554494482787"
      ]
     },
     "execution_count": 26,
     "metadata": {},
     "output_type": "execute_result"
    }
   ],
   "source": [
    "run_k_fold(X, y, 10, True)"
   ]
  },
  {
   "cell_type": "code",
   "execution_count": 30,
   "metadata": {},
   "outputs": [],
   "source": [
    "test_data.to_csv(\"test_dat.csv\")"
   ]
  },
  {
   "cell_type": "code",
   "execution_count": null,
   "metadata": {},
   "outputs": [],
   "source": []
  }
 ],
 "metadata": {
  "kernelspec": {
   "display_name": "Python 3",
   "language": "python",
   "name": "python3"
  },
  "language_info": {
   "codemirror_mode": {
    "name": "ipython",
    "version": 3
   },
   "file_extension": ".py",
   "mimetype": "text/x-python",
   "name": "python",
   "nbconvert_exporter": "python",
   "pygments_lexer": "ipython3",
   "version": "3.6.5"
  }
 },
 "nbformat": 4,
 "nbformat_minor": 2
}
