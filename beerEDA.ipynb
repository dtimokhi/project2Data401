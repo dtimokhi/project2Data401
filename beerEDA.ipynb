{
 "cells": [
  {
   "cell_type": "code",
   "execution_count": 3,
   "metadata": {},
   "outputs": [],
   "source": [
    "import numpy as np\n",
    "import pandas as pd\n",
    "import matplotlib.pyplot as plt\n",
    "from sklearn.feature_extraction.text import CountVectorizer\n",
    "from sklearn.feature_extraction.text import TfidfTransformer\n",
    "from scipy.sparse.linalg import svds, eigs\n",
    "from ast import literal_eval\n",
    "\n",
    "%matplotlib inline"
   ]
  },
  {
   "cell_type": "code",
   "execution_count": 4,
   "metadata": {},
   "outputs": [],
   "source": [
    "beer = pd.read_csv(\"../data400_share/beer.csv\")\n",
    "beer = beer[pd.notnull(beer['review/text'])]"
   ]
  },
  {
   "cell_type": "code",
   "execution_count": 34,
   "metadata": {},
   "outputs": [],
   "source": [
    "count_vect = CountVectorizer(\n",
    "    stop_words = 'english'\n",
    "    #ngram_range = (1),\n",
    ")\n",
    "\n",
    "tfidf_transformer = TfidfTransformer()"
   ]
  },
  {
   "cell_type": "code",
   "execution_count": 35,
   "metadata": {},
   "outputs": [],
   "source": [
    "## Vectorize the reviews\n",
    "X_train_counts = count_vect.fit_transform(beer['review/text'])\n",
    "X_train_tfidf = tfidf_transformer.fit_transform(X_train_counts)"
   ]
  },
  {
   "cell_type": "code",
   "execution_count": 36,
   "metadata": {},
   "outputs": [],
   "source": [
    "u, s, vt = svds(X_train_tfidf, k = 100)"
   ]
  },
  {
   "cell_type": "code",
   "execution_count": 37,
   "metadata": {},
   "outputs": [
    {
     "data": {
      "text/plain": [
       "(37490, 100)"
      ]
     },
     "execution_count": 37,
     "metadata": {},
     "output_type": "execute_result"
    }
   ],
   "source": [
    "u.shape"
   ]
  },
  {
   "cell_type": "code",
   "execution_count": 38,
   "metadata": {},
   "outputs": [
    {
     "data": {
      "text/plain": [
       "(100,)"
      ]
     },
     "execution_count": 38,
     "metadata": {},
     "output_type": "execute_result"
    }
   ],
   "source": [
    "s.shape"
   ]
  },
  {
   "cell_type": "code",
   "execution_count": 39,
   "metadata": {},
   "outputs": [
    {
     "data": {
      "text/plain": [
       "(100, 41133)"
      ]
     },
     "execution_count": 39,
     "metadata": {},
     "output_type": "execute_result"
    }
   ],
   "source": [
    "vt.shape"
   ]
  },
  {
   "cell_type": "code",
   "execution_count": 5,
   "metadata": {},
   "outputs": [],
   "source": [
    "## Organize Time structure\n",
    "timeValues = ['min', 'hour', 'mday', 'sec', 'year', 'wday', 'mon', 'isdst', 'yday']"
   ]
  },
  {
   "cell_type": "code",
   "execution_count": 6,
   "metadata": {},
   "outputs": [],
   "source": [
    "## All of the dictionaries of time for each review\n",
    "dicts = [np.array(list(literal_eval(x).values())) for x in beer['review/timeStruct']]"
   ]
  },
  {
   "cell_type": "code",
   "execution_count": 7,
   "metadata": {},
   "outputs": [],
   "source": [
    "## Create a Dataframe \n",
    "timesData = pd.DataFrame(dicts, columns=timeValues)"
   ]
  },
  {
   "cell_type": "code",
   "execution_count": 8,
   "metadata": {},
   "outputs": [],
   "source": [
    "## Append to original beer DataFrame\n",
    "beer_full = beer.join(timesData)"
   ]
  },
  {
   "cell_type": "markdown",
   "metadata": {},
   "source": [
    "Append Kaggle beer Data"
   ]
  },
  {
   "cell_type": "code",
   "execution_count": 9,
   "metadata": {},
   "outputs": [
    {
     "data": {
      "text/plain": [
       "year\n",
       "1999.0       4\n",
       "2000.0       7\n",
       "2001.0      27\n",
       "2002.0     417\n",
       "2003.0     861\n",
       "2004.0    1175\n",
       "2005.0    1969\n",
       "2006.0    2931\n",
       "2007.0    3035\n",
       "2008.0    4496\n",
       "2009.0    6536\n",
       "2010.0    7303\n",
       "2011.0    8422\n",
       "2012.0     297\n",
       "Name: index, dtype: int64"
      ]
     },
     "execution_count": 9,
     "metadata": {},
     "output_type": "execute_result"
    }
   ],
   "source": [
    "beer_full.groupby('year')['index'].count()"
   ]
  },
  {
   "cell_type": "code",
   "execution_count": 10,
   "metadata": {},
   "outputs": [],
   "source": [
    "## 2009 year month weather data for breweries"
   ]
  },
  {
   "cell_type": "code",
   "execution_count": 11,
   "metadata": {},
   "outputs": [],
   "source": [
    "bidname = pd.read_csv(\"beerDat.csv\")\n",
    "breweries = pd.read_csv(\"breweries.csv\")"
   ]
  },
  {
   "cell_type": "code",
   "execution_count": 12,
   "metadata": {},
   "outputs": [],
   "source": [
    "# Merge on id to get names\n",
    "beerval = beer_full.merge(bidname, left_on=\"beer/brewerId\", right_on=\"brewery_id\")\n",
    "# Get city, state by brewery name\n",
    "beer_city = beerval.merge(breweries, left_on=\"brewery_name\", right_on=\"name\")"
   ]
  },
  {
   "cell_type": "code",
   "execution_count": 13,
   "metadata": {},
   "outputs": [
    {
     "data": {
      "text/html": [
       "<div>\n",
       "<style scoped>\n",
       "    .dataframe tbody tr th:only-of-type {\n",
       "        vertical-align: middle;\n",
       "    }\n",
       "\n",
       "    .dataframe tbody tr th {\n",
       "        vertical-align: top;\n",
       "    }\n",
       "\n",
       "    .dataframe thead th {\n",
       "        text-align: right;\n",
       "    }\n",
       "</style>\n",
       "<table border=\"1\" class=\"dataframe\">\n",
       "  <thead>\n",
       "    <tr style=\"text-align: right;\">\n",
       "      <th></th>\n",
       "      <th>city</th>\n",
       "      <th>state</th>\n",
       "    </tr>\n",
       "  </thead>\n",
       "  <tbody>\n",
       "    <tr>\n",
       "      <th>0</th>\n",
       "      <td>Cambridge</td>\n",
       "      <td>MA</td>\n",
       "    </tr>\n",
       "    <tr>\n",
       "      <th>834</th>\n",
       "      <td>Grand Rapids</td>\n",
       "      <td>MI</td>\n",
       "    </tr>\n",
       "    <tr>\n",
       "      <th>15804</th>\n",
       "      <td>O'Fallon</td>\n",
       "      <td>MO</td>\n",
       "    </tr>\n",
       "    <tr>\n",
       "      <th>17081</th>\n",
       "      <td>Ashland</td>\n",
       "      <td>OR</td>\n",
       "    </tr>\n",
       "    <tr>\n",
       "      <th>17747</th>\n",
       "      <td>Charlotte</td>\n",
       "      <td>NC</td>\n",
       "    </tr>\n",
       "    <tr>\n",
       "      <th>17762</th>\n",
       "      <td>Morganton</td>\n",
       "      <td>NC</td>\n",
       "    </tr>\n",
       "    <tr>\n",
       "      <th>17892</th>\n",
       "      <td>Kirkwood</td>\n",
       "      <td>MO</td>\n",
       "    </tr>\n",
       "  </tbody>\n",
       "</table>\n",
       "</div>"
      ],
      "text/plain": [
       "               city state\n",
       "0         Cambridge    MA\n",
       "834    Grand Rapids    MI\n",
       "15804      O'Fallon    MO\n",
       "17081       Ashland    OR\n",
       "17747     Charlotte    NC\n",
       "17762     Morganton    NC\n",
       "17892      Kirkwood    MO"
      ]
     },
     "execution_count": 13,
     "metadata": {},
     "output_type": "execute_result"
    }
   ],
   "source": [
    "beer_city[['city', 'state']].drop_duplicates()"
   ]
  },
  {
   "cell_type": "code",
   "execution_count": 14,
   "metadata": {},
   "outputs": [
    {
     "data": {
      "text/plain": [
       "Index(['index', 'beer/ABV', 'beer/beerId', 'beer/brewerId', 'beer/name',\n",
       "       'beer/style', 'review/appearance', 'review/aroma', 'review/overall',\n",
       "       'review/palate', 'review/taste', 'review/text', 'review/timeStruct',\n",
       "       'review/timeUnix', 'user/ageInSeconds', 'user/birthdayRaw',\n",
       "       'user/birthdayUnix', 'user/gender', 'user/profileName', 'min', 'hour',\n",
       "       'mday', 'sec', 'year', 'wday', 'mon', 'isdst', 'yday', 'brewery_id',\n",
       "       'brewery_name', 'Unnamed: 0', 'name', 'city', 'state'],\n",
       "      dtype='object')"
      ]
     },
     "execution_count": 14,
     "metadata": {},
     "output_type": "execute_result"
    }
   ],
   "source": [
    "beer_city.columns"
   ]
  },
  {
   "cell_type": "code",
   "execution_count": 15,
   "metadata": {},
   "outputs": [],
   "source": [
    "beer_city_sub = beer_full[[\n",
    "    'user/profileName',\n",
    "    'beer/ABV',\n",
    "    'beer/brewerId',\n",
    "    'beer/name',\n",
    "    'review/appearance',\n",
    "    'review/aroma',\n",
    "    'review/overall',\n",
    "    'review/palate',\n",
    "    'review/taste',\n",
    "    'review/text',\n",
    "    'min',\n",
    "    'hour',\n",
    "    'mday',\n",
    "    'sec',\n",
    "    'year',\n",
    "    'wday',\n",
    "    'mon',\n",
    "    'isdst',\n",
    "    'yday'\n",
    "]]"
   ]
  },
  {
   "cell_type": "code",
   "execution_count": 16,
   "metadata": {},
   "outputs": [],
   "source": [
    "## Create all of the dummies\n",
    "name_d = pd.get_dummies(beer_city_sub['beer/name'])\n",
    "hour_d = pd.get_dummies(beer_city_sub['hour'], prefix = \"hr_\")\n",
    "year_d = pd.get_dummies(beer_city_sub['year'], prefix = \"yr_\")\n",
    "mon_d = pd.get_dummies(beer_city_sub['mon'], prefix = \"mon_\")\n",
    "mday_d = pd.get_dummies(beer_city_sub['mday'], prefix = \"mday_\")\n",
    "brewer_d = pd.get_dummies(beer_city_sub['beer/brewerId'], prefix= \"brwid_\")\n",
    "wday_d = pd.get_dummies(beer_city_sub['wday'], prefix =  \"wday_\")\n",
    "\n",
    "# Only select name with more than 5 values\n",
    "beer_counts = beer.groupby(['beer/name'], as_index=False)[['index']].count()\n",
    "beer_counts_s = beer_counts.sort_values(by = ['index'], ascending=False)\n",
    "beer_filtered = beer_counts_s[beer_counts_s['index'] > 5]\n",
    "new_cls = [col for col in name_d.columns if col in list(beer_filtered['beer/name'])]\n",
    "name_d = name_d[new_cls]"
   ]
  },
  {
   "cell_type": "code",
   "execution_count": 17,
   "metadata": {},
   "outputs": [],
   "source": [
    "beer_dummied = pd.concat([beer_city_sub, name_d, hour_d, year_d,mday_d, mon_d, brewer_d, wday_d], axis=1, sort=False)"
   ]
  },
  {
   "cell_type": "code",
   "execution_count": 18,
   "metadata": {},
   "outputs": [
    {
     "data": {
      "text/plain": [
       "(37490, 808)"
      ]
     },
     "execution_count": 18,
     "metadata": {},
     "output_type": "execute_result"
    }
   ],
   "source": [
    "beer_dummied.shape"
   ]
  },
  {
   "cell_type": "code",
   "execution_count": 19,
   "metadata": {},
   "outputs": [],
   "source": [
    "beer_dropped = beer_dummied.drop([\n",
    "    'beer/brewerId',\n",
    "    'beer/name',\n",
    "    'review/text',\n",
    "    'hour',\n",
    "    'year',\n",
    "    'mon',\n",
    "    'yday',\n",
    "    'mday',\n",
    "    'wday',\n",
    "    'sec',\n",
    "    'min'\n",
    "], axis = 1)"
   ]
  },
  {
   "cell_type": "code",
   "execution_count": 20,
   "metadata": {},
   "outputs": [],
   "source": [
    "new_dat =  pd.read_csv(\"fixed_beer_data.csv\")"
   ]
  },
  {
   "cell_type": "code",
   "execution_count": 21,
   "metadata": {},
   "outputs": [],
   "source": [
    "dat = new_dat.rename(\n",
    "    index=str,\n",
    "    columns = {\n",
    "        'beer_name' : 'beer/name',\n",
    "        'review_aroma' : 'review/aroma',\n",
    "        'review_taste' : 'review/taste',\n",
    "        'review_appearance' : 'review/appearance',\n",
    "        'review_overall' : 'review/overall',\n",
    "        'review_profilename' : 'user/profileName',\n",
    "        'review_palate' : 'review/palate',\n",
    "        'brewery_id' :  'beer/brewerId'\n",
    "    }\n",
    ")"
   ]
  },
  {
   "cell_type": "code",
   "execution_count": 22,
   "metadata": {},
   "outputs": [],
   "source": [
    "dat = dat.drop(['beer_style', 'count'], axis = 1)"
   ]
  },
  {
   "cell_type": "code",
   "execution_count": 23,
   "metadata": {},
   "outputs": [
    {
     "data": {
      "text/plain": [
       "(37500, 13)"
      ]
     },
     "execution_count": 23,
     "metadata": {},
     "output_type": "execute_result"
    }
   ],
   "source": [
    "dat.shape"
   ]
  },
  {
   "cell_type": "code",
   "execution_count": 24,
   "metadata": {},
   "outputs": [
    {
     "data": {
      "text/plain": [
       "(37490, 28)"
      ]
     },
     "execution_count": 24,
     "metadata": {},
     "output_type": "execute_result"
    }
   ],
   "source": [
    "beer_full.shape"
   ]
  },
  {
   "cell_type": "code",
   "execution_count": 25,
   "metadata": {},
   "outputs": [],
   "source": [
    "out = pd.merge(beer_dummied,\n",
    "         dat,\n",
    "         on = ['beer/name',\n",
    "               'review/aroma',\n",
    "               'review/taste',\n",
    "               'review/appearance',\n",
    "               'review/overall',\n",
    "               'review/palate',\n",
    "               'user/profileName',\n",
    "               'beer/brewerId'],\n",
    "         how = 'inner').dropna()\n",
    "\n",
    "\n",
    "\n",
    "\n",
    "\n"
   ]
  },
  {
   "cell_type": "code",
   "execution_count": 26,
   "metadata": {},
   "outputs": [
    {
     "data": {
      "text/plain": [
       "(37489, 813)"
      ]
     },
     "execution_count": 26,
     "metadata": {},
     "output_type": "execute_result"
    }
   ],
   "source": [
    "out.shape"
   ]
  },
  {
   "cell_type": "code",
   "execution_count": 30,
   "metadata": {},
   "outputs": [],
   "source": [
    "out_dropped = out.drop([\n",
    "    'user/profileName',\n",
    "    'beer/brewerId',\n",
    "    'beer/name',\n",
    "    'hour',\n",
    "    'year',\n",
    "    'mon',\n",
    "    'yday',\n",
    "    'mday',\n",
    "    'wday',\n",
    "    'sec',\n",
    "    'min'\n",
    "], axis = 1)"
   ]
  },
  {
   "cell_type": "code",
   "execution_count": 31,
   "metadata": {},
   "outputs": [
    {
     "data": {
      "text/plain": [
       "(37489, 802)"
      ]
     },
     "execution_count": 31,
     "metadata": {},
     "output_type": "execute_result"
    }
   ],
   "source": [
    "out_dropped.shape"
   ]
  },
  {
   "cell_type": "code",
   "execution_count": 29,
   "metadata": {},
   "outputs": [],
   "source": [
    "out_dropped.to_csv(\"full_data.csv\")"
   ]
  }
 ],
 "metadata": {
  "kernelspec": {
   "display_name": "Python 3",
   "language": "python",
   "name": "python3"
  },
  "language_info": {
   "codemirror_mode": {
    "name": "ipython",
    "version": 3
   },
   "file_extension": ".py",
   "mimetype": "text/x-python",
   "name": "python",
   "nbconvert_exporter": "python",
   "pygments_lexer": "ipython3",
   "version": "3.6.5"
  }
 },
 "nbformat": 4,
 "nbformat_minor": 2
}
