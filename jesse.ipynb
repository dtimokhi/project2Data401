{
 "cells": [
  {
   "cell_type": "code",
   "execution_count": 2,
   "metadata": {},
   "outputs": [],
   "source": [
    "import numpy as np\n",
    "import pandas as pd\n",
    "import matplotlib.pyplot as plt\n",
    "from sklearn.feature_extraction.text import CountVectorizer\n",
    "from sklearn.feature_extraction.text import TfidfTransformer\n",
    "from sklearn.model_selection import train_test_split\n",
    "from nltk.stem.snowball import EnglishStemmer\n",
    "from scipy.sparse.linalg import svds, eigs\n",
    "from sklearn import datasets\n",
    "import tensorflow as tf\n",
    "from tensorflow.keras import layers\n",
    "%matplotlib inline"
   ]
  },
  {
   "cell_type": "code",
   "execution_count": 3,
   "metadata": {},
   "outputs": [],
   "source": [
    "beer = pd.read_csv(\"full_data.csv\", index_col=0)\n",
    "beer.dropna(inplace=True)"
   ]
  },
  {
   "cell_type": "code",
   "execution_count": 4,
   "metadata": {},
   "outputs": [],
   "source": [
    "stemmer = EnglishStemmer()"
   ]
  },
  {
   "cell_type": "code",
   "execution_count": 5,
   "metadata": {},
   "outputs": [],
   "source": [
    "analyzer = CountVectorizer(\n",
    "    stop_words = 'english',\n",
    "    ngram_range = (1,2)).build_analyzer()\n",
    "\n",
    "def stemmed_words(doc):\n",
    "    return (stemmer.stem(w) for w in analyzer(doc))\n",
    "\n",
    "stem_vectorizer = CountVectorizer(\n",
    "#     stop_words = 'english',\n",
    "    analyzer=stemmed_words,\n",
    "#     ngram_range = (1,3)\n",
    ")\n",
    "tfidf_transformer = TfidfTransformer()"
   ]
  },
  {
   "cell_type": "code",
   "execution_count": 6,
   "metadata": {},
   "outputs": [],
   "source": [
    "## Vectorize the reviews\n",
    "X_train_counts = stem_vectorizer.fit_transform(beer['review/text'])\n",
    "X_train_tfidf = tfidf_transformer.fit_transform(X_train_counts)"
   ]
  },
  {
   "cell_type": "code",
   "execution_count": 7,
   "metadata": {},
   "outputs": [
    {
     "data": {
      "text/plain": [
       "<37489x754033 sparse matrix of type '<class 'numpy.float64'>'\n",
       "\twith 4484008 stored elements in Compressed Sparse Row format>"
      ]
     },
     "execution_count": 7,
     "metadata": {},
     "output_type": "execute_result"
    }
   ],
   "source": [
    "X_train_tfidf"
   ]
  },
  {
   "cell_type": "code",
   "execution_count": null,
   "metadata": {},
   "outputs": [],
   "source": [
    "u, s, v = svds(X_train_tfidf, k = 200)"
   ]
  },
  {
   "cell_type": "code",
   "execution_count": 9,
   "metadata": {},
   "outputs": [],
   "source": [
    "pd.DataFrame(u).to_csv('bigrams_100.csv')"
   ]
  },
  {
   "cell_type": "code",
   "execution_count": 10,
   "metadata": {},
   "outputs": [
    {
     "data": {
      "text/plain": [
       "(37489, 100)"
      ]
     },
     "execution_count": 10,
     "metadata": {},
     "output_type": "execute_result"
    }
   ],
   "source": [
    "u.shape"
   ]
  },
  {
   "cell_type": "code",
   "execution_count": 11,
   "metadata": {},
   "outputs": [],
   "source": [
    "u = pd.read_csv('bigrams_100.csv', index_col=0)"
   ]
  },
  {
   "cell_type": "code",
   "execution_count": 12,
   "metadata": {},
   "outputs": [],
   "source": [
    "full_data = pd.concat([beer, pd.DataFrame(u)], axis=1, sort=False)"
   ]
  },
  {
   "cell_type": "code",
   "execution_count": 13,
   "metadata": {},
   "outputs": [],
   "source": [
    "full_data.drop('review/text', inplace=True, axis=1)"
   ]
  },
  {
   "cell_type": "code",
   "execution_count": 11,
   "metadata": {},
   "outputs": [],
   "source": [
    "X = full_data.drop(['review/appearance', 'review/aroma', 'review/overall', 'review/palate', 'review/taste'], axis=1).values"
   ]
  },
  {
   "cell_type": "code",
   "execution_count": 12,
   "metadata": {},
   "outputs": [
    {
     "data": {
      "text/plain": [
       "(37494, 896)"
      ]
     },
     "execution_count": 12,
     "metadata": {},
     "output_type": "execute_result"
    }
   ],
   "source": [
    "X.shape"
   ]
  },
  {
   "cell_type": "code",
   "execution_count": 13,
   "metadata": {},
   "outputs": [],
   "source": [
    "y = full_data['review/overall'].values"
   ]
  },
  {
   "cell_type": "code",
   "execution_count": 14,
   "metadata": {},
   "outputs": [],
   "source": [
    "full_data.to_csv('final_data.csv')"
   ]
  },
  {
   "cell_type": "code",
   "execution_count": 18,
   "metadata": {},
   "outputs": [
    {
     "data": {
      "text/html": [
       "<div>\n",
       "<style scoped>\n",
       "    .dataframe tbody tr th:only-of-type {\n",
       "        vertical-align: middle;\n",
       "    }\n",
       "\n",
       "    .dataframe tbody tr th {\n",
       "        vertical-align: top;\n",
       "    }\n",
       "\n",
       "    .dataframe thead th {\n",
       "        text-align: right;\n",
       "    }\n",
       "</style>\n",
       "<table border=\"1\" class=\"dataframe\">\n",
       "  <thead>\n",
       "    <tr style=\"text-align: right;\">\n",
       "      <th></th>\n",
       "      <th>beer/ABV</th>\n",
       "      <th>review/appearance</th>\n",
       "      <th>review/aroma</th>\n",
       "      <th>review/overall</th>\n",
       "      <th>review/palate</th>\n",
       "      <th>review/taste</th>\n",
       "      <th>isdst</th>\n",
       "      <th>\"The Wind Cried Mari...\" Scottish Heather Ale</th>\n",
       "      <th>1906 Reserva Especial</th>\n",
       "      <th>2X Chocolate Porter</th>\n",
       "      <th>...</th>\n",
       "      <th>90</th>\n",
       "      <th>91</th>\n",
       "      <th>92</th>\n",
       "      <th>93</th>\n",
       "      <th>94</th>\n",
       "      <th>95</th>\n",
       "      <th>96</th>\n",
       "      <th>97</th>\n",
       "      <th>98</th>\n",
       "      <th>99</th>\n",
       "    </tr>\n",
       "  </thead>\n",
       "  <tbody>\n",
       "    <tr>\n",
       "      <th>0</th>\n",
       "      <td>5.0</td>\n",
       "      <td>4.0</td>\n",
       "      <td>4.0</td>\n",
       "      <td>4.0</td>\n",
       "      <td>4.0</td>\n",
       "      <td>4.0</td>\n",
       "      <td>0.0</td>\n",
       "      <td>0.0</td>\n",
       "      <td>0.0</td>\n",
       "      <td>0.0</td>\n",
       "      <td>...</td>\n",
       "      <td>-0.003817</td>\n",
       "      <td>-0.001904</td>\n",
       "      <td>-0.002556</td>\n",
       "      <td>0.003672</td>\n",
       "      <td>-0.000728</td>\n",
       "      <td>-0.002721</td>\n",
       "      <td>-0.003397</td>\n",
       "      <td>0.003552</td>\n",
       "      <td>0.000400</td>\n",
       "      <td>0.003669</td>\n",
       "    </tr>\n",
       "    <tr>\n",
       "      <th>1</th>\n",
       "      <td>11.0</td>\n",
       "      <td>4.0</td>\n",
       "      <td>3.5</td>\n",
       "      <td>3.5</td>\n",
       "      <td>3.5</td>\n",
       "      <td>3.0</td>\n",
       "      <td>0.0</td>\n",
       "      <td>0.0</td>\n",
       "      <td>0.0</td>\n",
       "      <td>0.0</td>\n",
       "      <td>...</td>\n",
       "      <td>0.008872</td>\n",
       "      <td>-0.008459</td>\n",
       "      <td>-0.005390</td>\n",
       "      <td>0.001952</td>\n",
       "      <td>0.003362</td>\n",
       "      <td>-0.000566</td>\n",
       "      <td>-0.001022</td>\n",
       "      <td>-0.000789</td>\n",
       "      <td>-0.004414</td>\n",
       "      <td>0.005061</td>\n",
       "    </tr>\n",
       "    <tr>\n",
       "      <th>2</th>\n",
       "      <td>4.7</td>\n",
       "      <td>3.5</td>\n",
       "      <td>4.0</td>\n",
       "      <td>3.5</td>\n",
       "      <td>3.5</td>\n",
       "      <td>3.5</td>\n",
       "      <td>0.0</td>\n",
       "      <td>0.0</td>\n",
       "      <td>0.0</td>\n",
       "      <td>0.0</td>\n",
       "      <td>...</td>\n",
       "      <td>-0.003155</td>\n",
       "      <td>-0.001823</td>\n",
       "      <td>0.002242</td>\n",
       "      <td>0.002276</td>\n",
       "      <td>-0.000769</td>\n",
       "      <td>0.002075</td>\n",
       "      <td>0.004495</td>\n",
       "      <td>-0.000685</td>\n",
       "      <td>-0.007607</td>\n",
       "      <td>0.003911</td>\n",
       "    </tr>\n",
       "    <tr>\n",
       "      <th>3</th>\n",
       "      <td>4.4</td>\n",
       "      <td>3.0</td>\n",
       "      <td>3.0</td>\n",
       "      <td>2.5</td>\n",
       "      <td>3.0</td>\n",
       "      <td>3.0</td>\n",
       "      <td>0.0</td>\n",
       "      <td>0.0</td>\n",
       "      <td>0.0</td>\n",
       "      <td>0.0</td>\n",
       "      <td>...</td>\n",
       "      <td>-0.001222</td>\n",
       "      <td>0.002758</td>\n",
       "      <td>-0.001472</td>\n",
       "      <td>0.000550</td>\n",
       "      <td>0.008042</td>\n",
       "      <td>0.012155</td>\n",
       "      <td>0.009179</td>\n",
       "      <td>0.004690</td>\n",
       "      <td>0.001785</td>\n",
       "      <td>0.003160</td>\n",
       "    </tr>\n",
       "    <tr>\n",
       "      <th>4</th>\n",
       "      <td>4.4</td>\n",
       "      <td>4.0</td>\n",
       "      <td>3.0</td>\n",
       "      <td>3.0</td>\n",
       "      <td>3.5</td>\n",
       "      <td>2.5</td>\n",
       "      <td>0.0</td>\n",
       "      <td>0.0</td>\n",
       "      <td>0.0</td>\n",
       "      <td>0.0</td>\n",
       "      <td>...</td>\n",
       "      <td>0.003644</td>\n",
       "      <td>-0.009948</td>\n",
       "      <td>-0.001942</td>\n",
       "      <td>0.005490</td>\n",
       "      <td>0.003194</td>\n",
       "      <td>0.000178</td>\n",
       "      <td>0.004289</td>\n",
       "      <td>0.001215</td>\n",
       "      <td>-0.002551</td>\n",
       "      <td>0.005537</td>\n",
       "    </tr>\n",
       "  </tbody>\n",
       "</table>\n",
       "<p>5 rows × 901 columns</p>\n",
       "</div>"
      ],
      "text/plain": [
       "   beer/ABV  review/appearance  review/aroma  review/overall  review/palate  \\\n",
       "0       5.0                4.0           4.0             4.0            4.0   \n",
       "1      11.0                4.0           3.5             3.5            3.5   \n",
       "2       4.7                3.5           4.0             3.5            3.5   \n",
       "3       4.4                3.0           3.0             2.5            3.0   \n",
       "4       4.4                4.0           3.0             3.0            3.5   \n",
       "\n",
       "   review/taste  isdst  \"The Wind Cried Mari...\" Scottish Heather Ale  \\\n",
       "0           4.0    0.0                                            0.0   \n",
       "1           3.0    0.0                                            0.0   \n",
       "2           3.5    0.0                                            0.0   \n",
       "3           3.0    0.0                                            0.0   \n",
       "4           2.5    0.0                                            0.0   \n",
       "\n",
       "   1906 Reserva Especial  2X Chocolate Porter    ...           90        91  \\\n",
       "0                    0.0                  0.0    ...    -0.003817 -0.001904   \n",
       "1                    0.0                  0.0    ...     0.008872 -0.008459   \n",
       "2                    0.0                  0.0    ...    -0.003155 -0.001823   \n",
       "3                    0.0                  0.0    ...    -0.001222  0.002758   \n",
       "4                    0.0                  0.0    ...     0.003644 -0.009948   \n",
       "\n",
       "         92        93        94        95        96        97        98  \\\n",
       "0 -0.002556  0.003672 -0.000728 -0.002721 -0.003397  0.003552  0.000400   \n",
       "1 -0.005390  0.001952  0.003362 -0.000566 -0.001022 -0.000789 -0.004414   \n",
       "2  0.002242  0.002276 -0.000769  0.002075  0.004495 -0.000685 -0.007607   \n",
       "3 -0.001472  0.000550  0.008042  0.012155  0.009179  0.004690  0.001785   \n",
       "4 -0.001942  0.005490  0.003194  0.000178  0.004289  0.001215 -0.002551   \n",
       "\n",
       "         99  \n",
       "0  0.003669  \n",
       "1  0.005061  \n",
       "2  0.003911  \n",
       "3  0.003160  \n",
       "4  0.005537  \n",
       "\n",
       "[5 rows x 901 columns]"
      ]
     },
     "execution_count": 18,
     "metadata": {},
     "output_type": "execute_result"
    }
   ],
   "source": [
    "full_data.head()"
   ]
  },
  {
   "cell_type": "code",
   "execution_count": 19,
   "metadata": {},
   "outputs": [],
   "source": [
    "full_data.dropna(inplace=True)"
   ]
  },
  {
   "cell_type": "code",
   "execution_count": 2,
   "metadata": {},
   "outputs": [
    {
     "ename": "NameError",
     "evalue": "name 'full_data' is not defined",
     "output_type": "error",
     "traceback": [
      "\u001b[0;31m---------------------------------------------------------------------------\u001b[0m",
      "\u001b[0;31mNameError\u001b[0m                                 Traceback (most recent call last)",
      "\u001b[0;32m<ipython-input-2-7dbb6190b727>\u001b[0m in \u001b[0;36m<module>\u001b[0;34m()\u001b[0m\n\u001b[0;32m----> 1\u001b[0;31m \u001b[0mfull_data\u001b[0m\u001b[0;34m[\u001b[0m\u001b[0mfull_data\u001b[0m\u001b[0;34m.\u001b[0m\u001b[0misnull\u001b[0m\u001b[0;34m(\u001b[0m\u001b[0;34m)\u001b[0m\u001b[0;34m]\u001b[0m\u001b[0;34m\u001b[0m\u001b[0m\n\u001b[0m",
      "\u001b[0;31mNameError\u001b[0m: name 'full_data' is not defined"
     ]
    }
   ],
   "source": [
    "full_data[full_data.isnull()]"
   ]
  },
  {
   "cell_type": "code",
   "execution_count": 15,
   "metadata": {},
   "outputs": [],
   "source": [
    "X_train, X_test, y_train, y_test = train_test_split(X, y)"
   ]
  },
  {
   "cell_type": "code",
   "execution_count": 837,
   "metadata": {},
   "outputs": [],
   "source": [
    "l = [Layer(250)] + ([Layer(20, ReLU())] * 10) + [Layer(1)]"
   ]
  },
  {
   "cell_type": "code",
   "execution_count": 849,
   "metadata": {},
   "outputs": [],
   "source": [
    "network_1 = FullyConnectedNeuralNetwork(\n",
    "    layers=l,\n",
    "    loss = SquaredErrorLoss(),\n",
    "    learning_rate= 0.00000000000000000001\n",
    ")"
   ]
  },
  {
   "cell_type": "code",
   "execution_count": 850,
   "metadata": {},
   "outputs": [],
   "source": [
    "n=10\n",
    "for i in range(0, len(y_train), n):\n",
    "    network_1.train(X_train[i:i+n], y_train[i:i+n])"
   ]
  },
  {
   "cell_type": "code",
   "execution_count": 852,
   "metadata": {},
   "outputs": [
    {
     "data": {
      "text/plain": [
       "array([[-684.74625613]])"
      ]
     },
     "execution_count": 852,
     "metadata": {},
     "output_type": "execute_result"
    }
   ],
   "source": [
    "network_1.feedforward([X_test[5]])"
   ]
  },
  {
   "cell_type": "code",
   "execution_count": 853,
   "metadata": {},
   "outputs": [],
   "source": [
    "predicted = network_1.feedforward(X_test)"
   ]
  },
  {
   "cell_type": "code",
   "execution_count": 854,
   "metadata": {},
   "outputs": [
    {
     "data": {
      "text/plain": [
       "array([[-1774.98918098],\n",
       "       [-2845.03400576],\n",
       "       [-2480.15262322],\n",
       "       ..., \n",
       "       [-1133.30312844],\n",
       "       [-5720.87303684],\n",
       "       [-7483.86534858]])"
      ]
     },
     "execution_count": 854,
     "metadata": {},
     "output_type": "execute_result"
    }
   ],
   "source": [
    "predicted"
   ]
  },
  {
   "cell_type": "code",
   "execution_count": 855,
   "metadata": {},
   "outputs": [
    {
     "data": {
      "text/plain": [
       "(-21600.749241491692, 121.08819412854741)"
      ]
     },
     "execution_count": 855,
     "metadata": {},
     "output_type": "execute_result"
    }
   ],
   "source": [
    "predicted.min(), predicted.max()"
   ]
  },
  {
   "cell_type": "code",
   "execution_count": 856,
   "metadata": {},
   "outputs": [
    {
     "data": {
      "text/plain": [
       "13301956.922905698"
      ]
     },
     "execution_count": 856,
     "metadata": {},
     "output_type": "execute_result"
    }
   ],
   "source": [
    "np.mean((y_test - predicted.flatten())**2)"
   ]
  },
  {
   "cell_type": "code",
   "execution_count": 23,
   "metadata": {},
   "outputs": [
    {
     "data": {
      "text/plain": [
       "array([[  4.40000000e+00,   0.00000000e+00,   0.00000000e+00, ...,\n",
       "         -1.57359374e-03,  -4.17524945e-03,   6.08118718e-03],\n",
       "       [  1.12000000e+01,   0.00000000e+00,   0.00000000e+00, ...,\n",
       "         -5.61188148e-03,   9.76825454e-03,   6.26696735e-03],\n",
       "       [  5.90000000e+00,   0.00000000e+00,   0.00000000e+00, ...,\n",
       "         -1.32121412e-04,  -6.73356530e-03,   2.80870574e-03],\n",
       "       ..., \n",
       "       [  4.40000000e+00,   0.00000000e+00,   0.00000000e+00, ...,\n",
       "         -3.83761954e-03,  -1.08731993e-02,   4.39019528e-03],\n",
       "       [  1.05000000e+01,   0.00000000e+00,   0.00000000e+00, ...,\n",
       "         -4.31864509e-03,  -5.39410540e-03,   4.79386121e-03],\n",
       "       [  1.20000000e+01,   0.00000000e+00,   0.00000000e+00, ...,\n",
       "          2.14395446e-03,  -2.11244398e-03,   4.37316158e-03]])"
      ]
     },
     "execution_count": 23,
     "metadata": {},
     "output_type": "execute_result"
    }
   ],
   "source": [
    "X_train"
   ]
  },
  {
   "cell_type": "code",
   "execution_count": 31,
   "metadata": {},
   "outputs": [],
   "source": [
    "y_train = (y_train - np.mean(y_train))/(np.std(y_train))"
   ]
  },
  {
   "cell_type": "code",
   "execution_count": 33,
   "metadata": {},
   "outputs": [],
   "source": [
    "X_train = (X_train - np.mean(X_train))/(np.std(X_train))"
   ]
  },
  {
   "cell_type": "code",
   "execution_count": 17,
   "metadata": {},
   "outputs": [
    {
     "data": {
      "text/plain": [
       "nan"
      ]
     },
     "execution_count": 17,
     "metadata": {},
     "output_type": "execute_result"
    }
   ],
   "source": []
  },
  {
   "cell_type": "code",
   "execution_count": 16,
   "metadata": {},
   "outputs": [
    {
     "data": {
      "text/plain": [
       "array([[  6.60000000e+00,   0.00000000e+00,   0.00000000e+00, ...,\n",
       "         -5.43027851e-03,   4.53009133e-03,   3.44912530e-03],\n",
       "       [  8.50000000e+00,   0.00000000e+00,   0.00000000e+00, ...,\n",
       "         -4.24265087e-04,  -1.75124991e-03,   3.06964660e-03],\n",
       "       [  8.30000000e+00,   0.00000000e+00,   0.00000000e+00, ...,\n",
       "         -8.63554913e-03,   5.45475078e-03,   5.04183697e-03],\n",
       "       ..., \n",
       "       [  6.30000000e+00,   0.00000000e+00,   0.00000000e+00, ...,\n",
       "         -6.23733596e-04,  -1.26662604e-03,   4.72117017e-03],\n",
       "       [  1.20000000e+01,   0.00000000e+00,   0.00000000e+00, ...,\n",
       "          3.20949235e-03,   3.91589245e-03,   5.28097794e-03],\n",
       "       [  7.20000000e+00,   0.00000000e+00,   0.00000000e+00, ...,\n",
       "         -9.33489452e-04,  -1.09086857e-02,   5.34232776e-03]])"
      ]
     },
     "execution_count": 16,
     "metadata": {},
     "output_type": "execute_result"
    }
   ],
   "source": [
    "X_train"
   ]
  },
  {
   "cell_type": "code",
   "execution_count": 34,
   "metadata": {},
   "outputs": [
    {
     "name": "stdout",
     "output_type": "stream",
     "text": [
      "Epoch 1/5\n",
      "28120/28120 [==============================] - 2s 55us/step - loss: nan\n",
      "Epoch 2/5\n",
      "28120/28120 [==============================] - 1s 51us/step - loss: nan\n",
      "Epoch 3/5\n",
      "28120/28120 [==============================] - 1s 46us/step - loss: nan\n",
      "Epoch 4/5\n",
      "28120/28120 [==============================] - 1s 45us/step - loss: nan\n",
      "Epoch 5/5\n",
      "28120/28120 [==============================] - 1s 45us/step - loss: nan\n"
     ]
    },
    {
     "data": {
      "text/plain": [
       "<tensorflow.python.keras.callbacks.History at 0x7f96dd323ef0>"
      ]
     },
     "execution_count": 34,
     "metadata": {},
     "output_type": "execute_result"
    }
   ],
   "source": [
    "# specify the model architecture\n",
    "# l = [layers.Dense(896, activation=\"relu\")] + ([layers.Dense(20, activation=\"relu\")] * 20) + [layers.Dense(1)]\n",
    "model = tf.keras.Sequential([\n",
    "    layers.Dense(896, activation=\"relu\"),\n",
    "    layers.Dense(1)\n",
    "])\n",
    "\n",
    "# specify the loss function and optimization function\n",
    "model.compile(optimizer=tf.train.GradientDescentOptimizer(0.000000000000001),\n",
    "              loss='mse')\n",
    "\n",
    "# fit the model to data\n",
    "model.fit(X_train, y_train, epochs=5, batch_size=128)"
   ]
  },
  {
   "cell_type": "code",
   "execution_count": null,
   "metadata": {},
   "outputs": [],
   "source": []
  },
  {
   "cell_type": "code",
   "execution_count": null,
   "metadata": {},
   "outputs": [],
   "source": []
  },
  {
   "cell_type": "code",
   "execution_count": 18,
   "metadata": {},
   "outputs": [
    {
     "data": {
      "text/plain": [
       "array([[ nan],\n",
       "       [ nan],\n",
       "       [ nan],\n",
       "       ..., \n",
       "       [ nan],\n",
       "       [ nan],\n",
       "       [ nan]], dtype=float32)"
      ]
     },
     "execution_count": 18,
     "metadata": {},
     "output_type": "execute_result"
    }
   ],
   "source": [
    "model.predict(X_test)"
   ]
  },
  {
   "cell_type": "code",
   "execution_count": 56,
   "metadata": {},
   "outputs": [],
   "source": [
    "network = FullyConnectedNeuralNetwork(\n",
    "    layers=[Layer(10), Layer(20, ReLU()), Layer(1)],\n",
    "    loss = SquaredErrorLoss(),\n",
    "    learning_rate=0.001\n",
    ")"
   ]
  },
  {
   "cell_type": "code",
   "execution_count": 57,
   "metadata": {},
   "outputs": [],
   "source": [
    "diabetes = datasets.load_diabetes()"
   ]
  },
  {
   "cell_type": "code",
   "execution_count": 58,
   "metadata": {},
   "outputs": [],
   "source": [
    "X = diabetes.data"
   ]
  },
  {
   "cell_type": "code",
   "execution_count": 59,
   "metadata": {},
   "outputs": [],
   "source": [
    "y = diabetes.target"
   ]
  },
  {
   "cell_type": "code",
   "execution_count": 62,
   "metadata": {},
   "outputs": [],
   "source": [
    "for i in range(len(y)):\n",
    "    network.train([X[i]], y[i])"
   ]
  },
  {
   "cell_type": "code",
   "execution_count": 63,
   "metadata": {},
   "outputs": [
    {
     "data": {
      "text/plain": [
       "8344.7284204534008"
      ]
     },
     "execution_count": 63,
     "metadata": {},
     "output_type": "execute_result"
    }
   ],
   "source": [
    "np.mean((y - network.feedforward(X))**2)"
   ]
  },
  {
   "cell_type": "code",
   "execution_count": null,
   "metadata": {},
   "outputs": [],
   "source": []
  }
 ],
 "metadata": {
  "kernelspec": {
   "display_name": "Python 3",
   "language": "python",
   "name": "python3"
  },
  "language_info": {
   "codemirror_mode": {
    "name": "ipython",
    "version": 3
   },
   "file_extension": ".py",
   "mimetype": "text/x-python",
   "name": "python",
   "nbconvert_exporter": "python",
   "pygments_lexer": "ipython3",
   "version": "3.6.5"
  }
 },
 "nbformat": 4,
 "nbformat_minor": 2
}
