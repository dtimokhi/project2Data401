{
 "cells": [
  {
   "cell_type": "code",
   "execution_count": 74,
   "metadata": {},
   "outputs": [],
   "source": [
    "import numpy as np\n",
    "import pandas as pd\n",
    "from sklearn.linear_model import LassoCV\n",
    "from sklearn.linear_model import lasso_path\n",
    "import matplotlib.pyplot as plt\n",
    "from sklearn.model_selection import KFold\n",
    "%matplotlib inline"
   ]
  },
  {
   "cell_type": "code",
   "execution_count": 101,
   "metadata": {},
   "outputs": [],
   "source": [
    "def pad_ones_column(X):\n",
    "    \"\"\"Add columns of ones to a data matrix\"\"\"\n",
    "    return np.c_[ np.ones(len(ORIGINAL_DF)), X ]\n",
    "\n",
    "def estimate_beta(X, y):\n",
    "    \"\"\"Compte estimates for beta given X and y\n",
    "    \n",
    "    Beta = (X^T X)^-1 X^T y\n",
    "    \"\"\"\n",
    "    t1 = np.linalg.inv(np.matmul(X.T, X))\n",
    "    t2 = np.matmul(X.T, y)\n",
    "    return np.matmul(t1, t2)\n",
    "\n",
    "def run_complete_linear_regression(X, y, beta_hat):\n",
    "    \"\"\"Run linear regression and produce error statistics\"\"\"\n",
    "    # Make predictions based on testing data\n",
    "    predicted_y = np.matmul(X, beta_hat)\n",
    "    \n",
    "    # Compute the error from the actual data\n",
    "    errors = np.square(y - predicted_y)\n",
    "    \n",
    "    # Compute mean squared error\n",
    "    MSE = np.mean(errors)\n",
    "    \n",
    "    # Compute sum squared error\n",
    "    SSE = np.sum(errors)\n",
    "\n",
    "    return MSE, SSE\n",
    "\n",
    "def run_k_fold(X, y, n_splits=10, print_stuff=False):\n",
    "    \"\"\"Run k-fold cross validation\"\"\"\n",
    "    kf = KFold(n_splits=n_splits)\n",
    "    storeResultsMSE = []\n",
    "    storeResultsSSE = []\n",
    "\n",
    "    for i, (train_index, test_index) in enumerate(kf.split(X)):\n",
    "        X_train, X_test = X[train_index], X[test_index]\n",
    "        y_train, y_test = y[train_index], y[test_index]\n",
    "\n",
    "        beta_hat = estimate_beta(X_train, y_train)\n",
    "\n",
    "        test_MSE, test_SSE = run_complete_linear_regression(X_test, y_test, beta_hat)\n",
    "\n",
    "        storeResultsMSE.append(test_MSE)\n",
    "        storeResultsSSE.append(test_SSE)\n",
    "        \n",
    "        if print_stuff:\n",
    "            print(\"Iteration:\", i, \"MSE: \", test_MSE, \"SSE:\", test_SSE)  \n",
    "    if print_stuff:\n",
    "        print(\"Average MSE:\", np.mean(storeResultsMSE), \"Average SSE:\", np.mean(storeResultsSSE))\n",
    "    \n",
    "    return np.mean(storeResultsMSE)"
   ]
  },
  {
   "cell_type": "code",
   "execution_count": 7,
   "metadata": {},
   "outputs": [],
   "source": [
    "data = pd.read_csv(\"final_data.csv\", index_col=0).dropna()"
   ]
  },
  {
   "cell_type": "code",
   "execution_count": 128,
   "metadata": {},
   "outputs": [],
   "source": [
    "X_d = data.drop(['review/appearance', 'review/aroma', 'review/overall', 'review/palate', 'review/taste', 'avg_palate', 'avg_aroma', 'avg_overall', 'avg_appear', 'avg_taste'], axis=1)\n",
    "X = np.matrix(X_d)\n",
    "y = data['review/overall'].values"
   ]
  },
  {
   "cell_type": "code",
   "execution_count": 144,
   "metadata": {},
   "outputs": [],
   "source": [
    "# Fit Lasso Model for review overall\n",
    "X = np.matrix(data.drop(['review/appearance', 'review/aroma', 'review/overall', 'review/palate', 'review/taste'], axis=1))\n",
    "y_overall = data['review/overall'].values\n",
    "model_overa = LassoCV(cv=10, fit_intercept=True).fit(X,y_overall)\n",
    "\n",
    "# Fit Lasso Model for review appearance\n",
    "y_appear = data['review/appearance'].values\n",
    "model_appear = LassoCV(cv=10, fit_intercept=True).fit(X,y_appear)\n",
    "\n",
    "# Fit Lasso Model for review aroma\n",
    "y_aroma = data['review/aroma'].values\n",
    "model_aroma = LassoCV(cv=10, fit_intercept=True).fit(X,y_aroma)\n",
    "\n",
    "# Fit Lasso Model for review palate\n",
    "y_palate = data['review/palate'].values\n",
    "model_palate = LassoCV(cv=10, fit_intercept=True).fit(X,y_palate)\n",
    "\n",
    "# Fit Lasso Model for review taste\n",
    "y_taste = data['review/taste'].values\n",
    "model_taste = LassoCV(cv=10, fit_intercept=True).fit(X,y_taste)"
   ]
  },
  {
   "cell_type": "code",
   "execution_count": 145,
   "metadata": {},
   "outputs": [],
   "source": [
    "# Select feature columns for each dataset\n",
    "ind_overall = [i for i, x in enumerate(model_overa.coef_) if x > 0]\n",
    "ind_appear = [i for i, x in enumerate(model_appear.coef_) if x > 0]\n",
    "ind_aroma = [i for i, x in enumerate(model_aroma.coef_) if x > 0]\n",
    "ind_palate = [i for i, x in enumerate(model_palate.coef_) if x > 0]\n",
    "ind_taste = [i for i, x in enumerate(model_taste.coef_) if x > 0]"
   ]
  },
  {
   "cell_type": "code",
   "execution_count": 146,
   "metadata": {},
   "outputs": [
    {
     "data": {
      "text/plain": [
       "False"
      ]
     },
     "execution_count": 146,
     "metadata": {},
     "output_type": "execute_result"
    }
   ],
   "source": [
    "ind_overall == ind_appear == ind_aroma == ind_palate == ind_taste"
   ]
  },
  {
   "cell_type": "code",
   "execution_count": 147,
   "metadata": {},
   "outputs": [],
   "source": [
    "# Select the columns for each variable\n",
    "X_overall = X[: , ind_overall]\n",
    "X_appear = X[: , ind_appear]\n",
    "X_aroma = X[: , ind_aroma]\n",
    "X_palate = X[: , ind_palate]\n",
    "X_taste = X[: , ind_taste]"
   ]
  },
  {
   "cell_type": "code",
   "execution_count": 148,
   "metadata": {},
   "outputs": [
    {
     "data": {
      "text/plain": [
       "0.37931720352214943"
      ]
     },
     "execution_count": 148,
     "metadata": {},
     "output_type": "execute_result"
    }
   ],
   "source": [
    "# Overall get MSE\n",
    "run_k_fold(X_overall, np.matrix(y_overall).T)"
   ]
  },
  {
   "cell_type": "code",
   "execution_count": 149,
   "metadata": {},
   "outputs": [
    {
     "data": {
      "text/plain": [
       "0.25193336607437378"
      ]
     },
     "execution_count": 149,
     "metadata": {},
     "output_type": "execute_result"
    }
   ],
   "source": [
    "# Appearance get MSE\n",
    "run_k_fold(X_appear, np.matrix(y_appear).T)"
   ]
  },
  {
   "cell_type": "code",
   "execution_count": 150,
   "metadata": {},
   "outputs": [
    {
     "data": {
      "text/plain": [
       "0.29041628410206644"
      ]
     },
     "execution_count": 150,
     "metadata": {},
     "output_type": "execute_result"
    }
   ],
   "source": [
    "# Aroma get MSE\n",
    "run_k_fold(X_aroma, np.matrix(y_aroma).T)"
   ]
  },
  {
   "cell_type": "code",
   "execution_count": 151,
   "metadata": {},
   "outputs": [
    {
     "data": {
      "text/plain": [
       "0.30537309387326644"
      ]
     },
     "execution_count": 151,
     "metadata": {},
     "output_type": "execute_result"
    }
   ],
   "source": [
    "# Palate get MSE\n",
    "run_k_fold(X_palate, np.matrix(y_palate).T)"
   ]
  },
  {
   "cell_type": "code",
   "execution_count": 152,
   "metadata": {},
   "outputs": [
    {
     "data": {
      "text/plain": [
       "0.33206299158102531"
      ]
     },
     "execution_count": 152,
     "metadata": {},
     "output_type": "execute_result"
    }
   ],
   "source": [
    "# Taste get MSE\n",
    "run_k_fold(X_taste, np.matrix(y_taste).T)"
   ]
  },
  {
   "cell_type": "code",
   "execution_count": 161,
   "metadata": {},
   "outputs": [
    {
     "data": {
      "text/plain": [
       "(37484, 81)"
      ]
     },
     "execution_count": 161,
     "metadata": {},
     "output_type": "execute_result"
    }
   ],
   "source": [
    "# Look at features for Overall\n",
    "X_d.iloc[:, ind_overall].shape"
   ]
  },
  {
   "cell_type": "code",
   "execution_count": 162,
   "metadata": {},
   "outputs": [
    {
     "data": {
      "text/plain": [
       "(37484, 56)"
      ]
     },
     "execution_count": 162,
     "metadata": {},
     "output_type": "execute_result"
    }
   ],
   "source": [
    "# Features for appear\n",
    "X_d.iloc[:, ind_appear].shape"
   ]
  },
  {
   "cell_type": "code",
   "execution_count": 163,
   "metadata": {},
   "outputs": [
    {
     "data": {
      "text/plain": [
       "(37484, 48)"
      ]
     },
     "execution_count": 163,
     "metadata": {},
     "output_type": "execute_result"
    }
   ],
   "source": [
    "# Features for aroma\n",
    "X_d.iloc[:, ind_aroma].shape"
   ]
  },
  {
   "cell_type": "code",
   "execution_count": 164,
   "metadata": {},
   "outputs": [
    {
     "data": {
      "text/plain": [
       "(37484, 51)"
      ]
     },
     "execution_count": 164,
     "metadata": {},
     "output_type": "execute_result"
    }
   ],
   "source": [
    "# Features for palate\n",
    "X_d.iloc[:, ind_palate].shape"
   ]
  },
  {
   "cell_type": "code",
   "execution_count": 165,
   "metadata": {},
   "outputs": [
    {
     "data": {
      "text/plain": [
       "(37484, 51)"
      ]
     },
     "execution_count": 165,
     "metadata": {},
     "output_type": "execute_result"
    }
   ],
   "source": [
    "# Features for taste\n",
    "X_d.iloc[:, ind_taste].shape"
   ]
  },
  {
   "cell_type": "code",
   "execution_count": 168,
   "metadata": {},
   "outputs": [
    {
     "data": {
      "text/plain": [
       "{'0',\n",
       " '1.1',\n",
       " '1075',\n",
       " '1199',\n",
       " '14',\n",
       " '14879',\n",
       " '16386',\n",
       " '20.0.1',\n",
       " '263',\n",
       " '3',\n",
       " '394',\n",
       " '4',\n",
       " '5 Day IPA',\n",
       " 'Caldera IPA',\n",
       " 'Founders Breakfast Stout',\n",
       " 'Founders KBS (Kentucky Breakfast Stout)',\n",
       " 'Founders Porter',\n",
       " \"Founders Red's Rye PA\",\n",
       " 'Founders RÃ¼bÃ¦us',\n",
       " 'Okocim Porter'}"
      ]
     },
     "execution_count": 168,
     "metadata": {},
     "output_type": "execute_result"
    }
   ],
   "source": [
    "set(X_d.iloc[:, ind_appear].columns).intersection(set(X_d.iloc[:, ind_overall].columns),\n",
    "                                           set(X_d.iloc[:, ind_aroma].columns),\n",
    "                                           set(X_d.iloc[:, ind_palate].columns),\n",
    "                                           set(X_d.iloc[:, ind_taste].columns))"
   ]
  },
  {
   "cell_type": "code",
   "execution_count": null,
   "metadata": {},
   "outputs": [],
   "source": []
  }
 ],
 "metadata": {
  "kernelspec": {
   "display_name": "Python 3",
   "language": "python",
   "name": "python3"
  },
  "language_info": {
   "codemirror_mode": {
    "name": "ipython",
    "version": 3
   },
   "file_extension": ".py",
   "mimetype": "text/x-python",
   "name": "python",
   "nbconvert_exporter": "python",
   "pygments_lexer": "ipython3",
   "version": "3.6.5"
  }
 },
 "nbformat": 4,
 "nbformat_minor": 2
}
