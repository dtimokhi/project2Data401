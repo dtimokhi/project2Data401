{
 "cells": [
  {
   "cell_type": "code",
   "execution_count": 3,
   "metadata": {},
   "outputs": [],
   "source": [
    "import numpy as np\n",
    "import pandas as pd\n",
    "from sklearn.linear_model import LassoCV\n",
    "from sklearn.linear_model import lasso_path\n",
    "import matplotlib.pyplot as plt\n",
    "from sklearn.model_selection import KFold\n",
    "%matplotlib inline"
   ]
  },
  {
   "cell_type": "code",
   "execution_count": 4,
   "metadata": {},
   "outputs": [],
   "source": [
    "def pad_ones_column(X):\n",
    "    \"\"\"Add columns of ones to a data matrix\"\"\"\n",
    "    return np.c_[ np.ones(len(ORIGINAL_DF)), X ]\n",
    "\n",
    "def estimate_beta(X, y):\n",
    "    \"\"\"Compte estimates for beta given X and y\n",
    "    \n",
    "    Beta = (X^T X)^-1 X^T y\n",
    "    \"\"\"\n",
    "    t1 = np.linalg.inv(np.matmul(X.T, X))\n",
    "    t2 = np.matmul(X.T, y)\n",
    "    return np.matmul(t1, t2)\n",
    "\n",
    "def run_complete_linear_regression(X, y, beta_hat):\n",
    "    \"\"\"Run linear regression and produce error statistics\"\"\"\n",
    "    # Make predictions based on testing data\n",
    "    predicted_y = np.matmul(X, beta_hat)\n",
    "    \n",
    "    # Compute the error from the actual data\n",
    "    errors = np.square(y - predicted_y)\n",
    "    \n",
    "    # Compute mean squared error\n",
    "    MSE = np.mean(errors)\n",
    "    \n",
    "    # Compute sum squared error\n",
    "    SSE = np.sum(errors)\n",
    "\n",
    "    return MSE, SSE\n",
    "\n",
    "def run_k_fold(X, y, n_splits=10, print_stuff=False):\n",
    "    \"\"\"Run k-fold cross validation\"\"\"\n",
    "    kf = KFold(n_splits=n_splits)\n",
    "    storeResultsMSE = []\n",
    "    storeResultsSSE = []\n",
    "\n",
    "    for i, (train_index, test_index) in enumerate(kf.split(X)):\n",
    "        X_train, X_test = X[train_index], X[test_index]\n",
    "        y_train, y_test = y[train_index], y[test_index]\n",
    "\n",
    "        beta_hat = estimate_beta(X_train, y_train)\n",
    "\n",
    "        test_MSE, test_SSE = run_complete_linear_regression(X_test, y_test, beta_hat)\n",
    "\n",
    "        storeResultsMSE.append(test_MSE)\n",
    "        storeResultsSSE.append(test_SSE)\n",
    "        \n",
    "        if print_stuff:\n",
    "            print(\"Iteration:\", i, \"MSE: \", test_MSE, \"SSE:\", test_SSE)  \n",
    "    if print_stuff:\n",
    "        print(\"Average MSE:\", np.mean(storeResultsMSE), \"Average SSE:\", np.mean(storeResultsSSE))\n",
    "    \n",
    "    return np.mean(storeResultsMSE)"
   ]
  },
  {
   "cell_type": "code",
   "execution_count": 5,
   "metadata": {},
   "outputs": [],
   "source": [
    "data = pd.read_csv(\"final_data.csv\", index_col=0).dropna()"
   ]
  },
  {
   "cell_type": "code",
   "execution_count": 6,
   "metadata": {},
   "outputs": [],
   "source": [
    "X_d = data.drop(['review/appearance', 'review/aroma', 'review/overall', 'review/palate', 'review/taste', 'avg_palate', 'avg_aroma', 'avg_overall', 'avg_appear', 'avg_taste'], axis=1)\n",
    "X = np.matrix(X_d)\n",
    "y = data['review/overall'].values"
   ]
  },
  {
   "cell_type": "code",
   "execution_count": 7,
   "metadata": {},
   "outputs": [],
   "source": [
    "# Fit Lasso Model for review overall\n",
    "X = np.matrix(data.drop(['review/appearance', 'review/aroma', 'review/overall', 'review/palate', 'review/taste'], axis=1))\n",
    "y_overall = data['review/overall'].values\n",
    "model_overa = LassoCV(cv=10, fit_intercept=True).fit(X,y_overall)\n",
    "\n",
    "# Fit Lasso Model for review appearance\n",
    "y_appear = data['review/appearance'].values\n",
    "model_appear = LassoCV(cv=10, fit_intercept=True).fit(X,y_appear)\n",
    "\n",
    "# Fit Lasso Model for review aroma\n",
    "y_aroma = data['review/aroma'].values\n",
    "model_aroma = LassoCV(cv=10, fit_intercept=True).fit(X,y_aroma)\n",
    "\n",
    "# Fit Lasso Model for review palate\n",
    "y_palate = data['review/palate'].values\n",
    "model_palate = LassoCV(cv=10, fit_intercept=True).fit(X,y_palate)\n",
    "\n",
    "# Fit Lasso Model for review taste\n",
    "y_taste = data['review/taste'].values\n",
    "model_taste = LassoCV(cv=10, fit_intercept=True).fit(X,y_taste)"
   ]
  },
  {
   "cell_type": "code",
   "execution_count": 8,
   "metadata": {},
   "outputs": [],
   "source": [
    "# Select feature columns for each dataset\n",
    "ind_overall = [i for i, x in enumerate(model_overa.coef_) if x > 0]\n",
    "ind_appear = [i for i, x in enumerate(model_appear.coef_) if x > 0]\n",
    "ind_aroma = [i for i, x in enumerate(model_aroma.coef_) if x > 0]\n",
    "ind_palate = [i for i, x in enumerate(model_palate.coef_) if x > 0]\n",
    "ind_taste = [i for i, x in enumerate(model_taste.coef_) if x > 0]"
   ]
  },
  {
   "cell_type": "code",
   "execution_count": 22,
   "metadata": {},
   "outputs": [
    {
     "data": {
      "text/plain": [
       "False"
      ]
     },
     "execution_count": 22,
     "metadata": {},
     "output_type": "execute_result"
    }
   ],
   "source": [
    "ind_overall == ind_appear == ind_aroma == ind_palate == ind_taste"
   ]
  },
  {
   "cell_type": "code",
   "execution_count": 23,
   "metadata": {},
   "outputs": [],
   "source": [
    "# Select the columns for each variable\n",
    "X_overall = X[: , ind_overall]\n",
    "X_appear = X[: , ind_appear]\n",
    "X_aroma = X[: , ind_aroma]\n",
    "X_palate = X[: , ind_palate]\n",
    "X_taste = X[: , ind_taste]"
   ]
  },
  {
   "cell_type": "code",
   "execution_count": 24,
   "metadata": {},
   "outputs": [
    {
     "data": {
      "text/plain": [
       "0.37931720352214943"
      ]
     },
     "execution_count": 24,
     "metadata": {},
     "output_type": "execute_result"
    }
   ],
   "source": [
    "# Overall get MSE\n",
    "run_k_fold(X_overall, np.matrix(y_overall).T)"
   ]
  },
  {
   "cell_type": "code",
   "execution_count": 25,
   "metadata": {},
   "outputs": [
    {
     "data": {
      "text/plain": [
       "0.25193336607437378"
      ]
     },
     "execution_count": 25,
     "metadata": {},
     "output_type": "execute_result"
    }
   ],
   "source": [
    "# Appearance get MSE\n",
    "run_k_fold(X_appear, np.matrix(y_appear).T)"
   ]
  },
  {
   "cell_type": "code",
   "execution_count": 26,
   "metadata": {},
   "outputs": [
    {
     "data": {
      "text/plain": [
       "0.29041628410206644"
      ]
     },
     "execution_count": 26,
     "metadata": {},
     "output_type": "execute_result"
    }
   ],
   "source": [
    "# Aroma get MSE\n",
    "run_k_fold(X_aroma, np.matrix(y_aroma).T)"
   ]
  },
  {
   "cell_type": "code",
   "execution_count": 27,
   "metadata": {},
   "outputs": [
    {
     "data": {
      "text/plain": [
       "0.30537309387326644"
      ]
     },
     "execution_count": 27,
     "metadata": {},
     "output_type": "execute_result"
    }
   ],
   "source": [
    "# Palate get MSE\n",
    "run_k_fold(X_palate, np.matrix(y_palate).T)"
   ]
  },
  {
   "cell_type": "code",
   "execution_count": 28,
   "metadata": {},
   "outputs": [
    {
     "data": {
      "text/plain": [
       "0.33206299158102531"
      ]
     },
     "execution_count": 28,
     "metadata": {},
     "output_type": "execute_result"
    }
   ],
   "source": [
    "# Taste get MSE\n",
    "run_k_fold(X_taste, np.matrix(y_taste).T)"
   ]
  },
  {
   "cell_type": "code",
   "execution_count": 47,
   "metadata": {},
   "outputs": [
    {
     "data": {
      "text/plain": [
       "Index(['5 Day IPA', 'Aecht Schlenkerla Eiche', 'Aecht Schlenkerla Fastenbier',\n",
       "       'Aecht Schlenkerla Helles Lagerbier', 'American Pale Ale',\n",
       "       'B.O.R.I.S. The Crusher Oatmeal-Imperial Stout',\n",
       "       'Barrel Aged B.O.R.I.S. Oatmeal Imperial Stout',\n",
       "       'Black Sheep Ale (Special)', 'Caldera IPA',\n",
       "       'D.O.R.I.S. The Destroyer Double Imperial Stout',\n",
       "       'Founders Breakfast Stout', 'Founders CBS Imperial Stout',\n",
       "       'Founders Centennial IPA', 'Founders Double Trouble',\n",
       "       'Founders Harvest Ale', 'Founders Imperial Stout',\n",
       "       'Founders KBS (Kentucky Breakfast Stout)', 'Founders Porter',\n",
       "       'Founders Red's Rye PA', 'Founders RÃ¼bÃ¦us', 'Hefeweizen',\n",
       "       'Jefferson's Reserve Bourbon Barrel Stout', 'O.K. Beer',\n",
       "       'Okocim Porter', 'Pike Kilt Lifter Scotch Style Ale',\n",
       "       'Pike Street XXXXX Stout', 'Pilsner Urquell', 'Smooth Hoperator',\n",
       "       'Stoudt's Gold Lager', 'Stoudts American Pale Ale', 'Stoudts Pils',\n",
       "       'Trafalgar Celebration Ale', 'Weltenburger Kloster Asam-Bock', 'Wheach',\n",
       "       'hr__1.0', 'hr__4.0', 'hr__13.0', 'hr__16.0', 'hr__19.0', 'hr__22.0',\n",
       "       'hr__23.0', 'yr__2005.0', 'yr__2008.0', 'mday__7.0', 'mday__15.0',\n",
       "       'mday__17.0', 'mday__18.0', 'mday__20.0', 'mday__21.0', 'mday__22.0',\n",
       "       'mday__24.0', 'mday__29.0', 'mon__2.0', 'mon__3.0', 'mon__4.0',\n",
       "       'mon__5.0', 'mon__6.0', 'brwid__1', 'brwid__14', 'brwid__263',\n",
       "       'brwid__365', 'brwid__394', 'brwid__395', 'brwid__1075', 'brwid__1199',\n",
       "       'brwid__1315', 'brwid__1417', 'brwid__1454', 'brwid__2446',\n",
       "       'brwid__3282', 'brwid__9020', 'brwid__14879', 'brwid__16386',\n",
       "       'wday__0.0', 'wday__1.0', 'wday__6.0', '0', '1', '2', '3', '4'],\n",
       "      dtype='object')"
      ]
     },
     "execution_count": 47,
     "metadata": {},
     "output_type": "execute_result"
    }
   ],
   "source": [
    "# Look at features for Overall\n",
    "X_d.iloc[:, ind_overall].columns"
   ]
  },
  {
   "cell_type": "code",
   "execution_count": 30,
   "metadata": {},
   "outputs": [
    {
     "data": {
      "text/plain": [
       "(37484, 56)"
      ]
     },
     "execution_count": 30,
     "metadata": {},
     "output_type": "execute_result"
    }
   ],
   "source": [
    "# Features for appear\n",
    "X_d.iloc[:, ind_appear].shape"
   ]
  },
  {
   "cell_type": "code",
   "execution_count": 31,
   "metadata": {},
   "outputs": [
    {
     "data": {
      "text/plain": [
       "(37484, 48)"
      ]
     },
     "execution_count": 31,
     "metadata": {},
     "output_type": "execute_result"
    }
   ],
   "source": [
    "# Features for aroma\n",
    "X_d.iloc[:, ind_aroma].shape"
   ]
  },
  {
   "cell_type": "code",
   "execution_count": 32,
   "metadata": {},
   "outputs": [
    {
     "data": {
      "text/plain": [
       "(37484, 51)"
      ]
     },
     "execution_count": 32,
     "metadata": {},
     "output_type": "execute_result"
    }
   ],
   "source": [
    "# Features for palate\n",
    "X_d.iloc[:, ind_palate].shape"
   ]
  },
  {
   "cell_type": "code",
   "execution_count": 33,
   "metadata": {},
   "outputs": [
    {
     "data": {
      "text/plain": [
       "(37484, 51)"
      ]
     },
     "execution_count": 33,
     "metadata": {},
     "output_type": "execute_result"
    }
   ],
   "source": [
    "# Features for taste\n",
    "X_d.iloc[:, ind_taste].shape"
   ]
  },
  {
   "cell_type": "code",
   "execution_count": 63,
   "metadata": {},
   "outputs": [
    {
     "data": {
      "text/plain": [
       "{'brwid__3268'}"
      ]
     },
     "execution_count": 63,
     "metadata": {},
     "output_type": "execute_result"
    }
   ],
   "source": [
    "set(X_d.iloc[:, ind_aroma].columns) - set(X_d.iloc[:, ind_appear].columns).union(set(X_d.iloc[:, ind_overall].columns),\n",
    "                                           set(X_d.iloc[:, ind_palate].columns),\n",
    "                                           set(X_d.iloc[:, ind_taste].columns))"
   ]
  },
  {
   "cell_type": "code",
   "execution_count": 77,
   "metadata": {},
   "outputs": [
    {
     "data": {
      "text/plain": [
       "['Stoudts Pils',\n",
       " 'mday__22.0',\n",
       " 'Wheach',\n",
       " 'Black Sheep Ale (Special)',\n",
       " 'brwid__3282',\n",
       " 'Aecht Schlenkerla Eiche',\n",
       " 'yr__2005.0',\n",
       " 'yr__2008.0',\n",
       " 'Trafalgar Celebration Ale',\n",
       " 'O.K. Beer',\n",
       " 'brwid__2446',\n",
       " 'Aecht Schlenkerla Helles Lagerbier',\n",
       " 'Stoudts American Pale Ale',\n",
       " 'hr__13.0',\n",
       " 'Pike Kilt Lifter Scotch Style Ale']"
      ]
     },
     "execution_count": 77,
     "metadata": {},
     "output_type": "execute_result"
    }
   ],
   "source": [
    "list(set(X_d.iloc[:, ind_overall].columns) - set(X_d.iloc[:, ind_appear].columns).union(\n",
    "                                           set(X_d.iloc[:, ind_aroma].columns),\n",
    "                                           set(X_d.iloc[:, ind_palate].columns),\n",
    "                                           set(X_d.iloc[:, ind_taste].columns)))"
   ]
  },
  {
   "cell_type": "code",
   "execution_count": 67,
   "metadata": {},
   "outputs": [
    {
     "data": {
      "text/plain": [
       "{'Founders Black Rye', 'mday__25.0', 'mday__28.0', 'mon__12.0'}"
      ]
     },
     "execution_count": 67,
     "metadata": {},
     "output_type": "execute_result"
    }
   ],
   "source": [
    "set(X_d.iloc[:, ind_appear].columns) - set(X_d.iloc[:, ind_overall].columns).union(\n",
    "                                            set(X_d.iloc[:, ind_palate].columns),\n",
    "                                           set(X_d.iloc[:, ind_aroma].columns),\n",
    "                                           set(X_d.iloc[:, ind_taste].columns))"
   ]
  },
  {
   "cell_type": "code",
   "execution_count": 70,
   "metadata": {},
   "outputs": [
    {
     "data": {
      "text/plain": [
       "{'yr__2006.0'}"
      ]
     },
     "execution_count": 70,
     "metadata": {},
     "output_type": "execute_result"
    }
   ],
   "source": [
    "set(X_d.iloc[:, ind_palate].columns) - set(X_d.iloc[:, ind_overall].columns).union(\n",
    "                                           set(X_d.iloc[:, ind_appear].columns),\n",
    "                                           set(X_d.iloc[:, ind_aroma].columns),\n",
    "                                           set(X_d.iloc[:, ind_taste].columns))"
   ]
  },
  {
   "cell_type": "code",
   "execution_count": 74,
   "metadata": {},
   "outputs": [
    {
     "data": {
      "text/plain": [
       "{'mday__4.0', 'mon__1.0', 'yr__2009.0'}"
      ]
     },
     "execution_count": 74,
     "metadata": {},
     "output_type": "execute_result"
    }
   ],
   "source": [
    "set(X_d.iloc[:, ind_taste].columns) - set(X_d.iloc[:, ind_overall].columns).union(\n",
    "                                            set(X_d.iloc[:, ind_appear].columns),\n",
    "                                           set(X_d.iloc[:, ind_aroma].columns),\n",
    "                                           set(X_d.iloc[:, ind_palate].columns),)"
   ]
  },
  {
   "cell_type": "code",
   "execution_count": 76,
   "metadata": {},
   "outputs": [
    {
     "data": {
      "text/plain": [
       "{'Founders Black Rye', 'mday__25.0', 'mday__28.0', 'mon__12.0'}"
      ]
     },
     "execution_count": 76,
     "metadata": {},
     "output_type": "execute_result"
    }
   ],
   "source": [
    "set(X_d.iloc[:, ind_appear].columns) - set(X_d.iloc[:, ind_overall].columns).union(\n",
    "                                           set(X_d.iloc[:, ind_aroma].columns),\n",
    "                                           set(X_d.iloc[:, ind_palate].columns),\n",
    "                                           set(X_d.iloc[:, ind_taste].columns))"
   ]
  },
  {
   "cell_type": "code",
   "execution_count": null,
   "metadata": {},
   "outputs": [],
   "source": []
  },
  {
   "cell_type": "code",
   "execution_count": 39,
   "metadata": {},
   "outputs": [
    {
     "data": {
      "text/plain": [
       "{'0',\n",
       " '1',\n",
       " '3',\n",
       " '4',\n",
       " '5 Day IPA',\n",
       " 'Caldera IPA',\n",
       " 'Founders Breakfast Stout',\n",
       " 'Founders KBS (Kentucky Breakfast Stout)',\n",
       " 'Founders Porter',\n",
       " \"Founders Red's Rye PA\",\n",
       " 'Founders RÃ¼bÃ¦us',\n",
       " 'Okocim Porter',\n",
       " 'brwid__1075',\n",
       " 'brwid__1199',\n",
       " 'brwid__14',\n",
       " 'brwid__14879',\n",
       " 'brwid__16386',\n",
       " 'brwid__263',\n",
       " 'brwid__394',\n",
       " 'mday__20.0'}"
      ]
     },
     "execution_count": 39,
     "metadata": {},
     "output_type": "execute_result"
    }
   ],
   "source": [
    "set(X_d.iloc[:, ind_appear].columns).intersection(set(X_d.iloc[:, ind_overall].columns),\n",
    "                                           set(X_d.iloc[:, ind_aroma].columns),\n",
    "                                           set(X_d.iloc[:, ind_palate].columns),\n",
    "                                           set(X_d.iloc[:, ind_taste].columns))"
   ]
  },
  {
   "cell_type": "code",
   "execution_count": 40,
   "metadata": {},
   "outputs": [
    {
     "data": {
      "text/plain": [
       "37"
      ]
     },
     "execution_count": 40,
     "metadata": {},
     "output_type": "execute_result"
    }
   ],
   "source": [
    "len(set(X_d.iloc[:, ind_taste].columns).intersection(set(X_d.iloc[:, ind_palate].columns)))"
   ]
  },
  {
   "cell_type": "code",
   "execution_count": 48,
   "metadata": {},
   "outputs": [
    {
     "data": {
      "text/plain": [
       "48"
      ]
     },
     "execution_count": 48,
     "metadata": {},
     "output_type": "execute_result"
    }
   ],
   "source": [
    "len(set(X_d.iloc[:, ind_overall].columns).intersection(set(X_d.iloc[:, ind_palate].columns)))"
   ]
  },
  {
   "cell_type": "code",
   "execution_count": 49,
   "metadata": {},
   "outputs": [
    {
     "data": {
      "text/plain": [
       "44"
      ]
     },
     "execution_count": 49,
     "metadata": {},
     "output_type": "execute_result"
    }
   ],
   "source": [
    "len(set(X_d.iloc[:, ind_overall].columns).intersection(set(X_d.iloc[:, ind_taste].columns)))"
   ]
  },
  {
   "cell_type": "code",
   "execution_count": 50,
   "metadata": {},
   "outputs": [
    {
     "data": {
      "text/plain": [
       "31"
      ]
     },
     "execution_count": 50,
     "metadata": {},
     "output_type": "execute_result"
    }
   ],
   "source": [
    "len(set(X_d.iloc[:, ind_aroma].columns).intersection(set(X_d.iloc[:, ind_taste].columns)))"
   ]
  },
  {
   "cell_type": "code",
   "execution_count": 54,
   "metadata": {},
   "outputs": [
    {
     "data": {
      "text/plain": [
       "33"
      ]
     },
     "execution_count": 54,
     "metadata": {},
     "output_type": "execute_result"
    }
   ],
   "source": [
    "len(set(X_d.iloc[:, ind_appear].columns).intersection(set(X_d.iloc[:, ind_aroma].columns)))"
   ]
  },
  {
   "cell_type": "code",
   "execution_count": 1,
   "metadata": {},
   "outputs": [
    {
     "ename": "NameError",
     "evalue": "name 'X' is not defined",
     "output_type": "error",
     "traceback": [
      "\u001b[0;31m---------------------------------------------------------------------------\u001b[0m",
      "\u001b[0;31mNameError\u001b[0m                                 Traceback (most recent call last)",
      "\u001b[0;32m<ipython-input-1-44d29a27caf1>\u001b[0m in \u001b[0;36m<module>\u001b[0;34m()\u001b[0m\n\u001b[0;32m----> 1\u001b[0;31m \u001b[0mX_overall\u001b[0m \u001b[0;34m=\u001b[0m \u001b[0mX\u001b[0m\u001b[0;34m[\u001b[0m\u001b[0;34m:\u001b[0m \u001b[0;34m,\u001b[0m \u001b[0mind_overall\u001b[0m\u001b[0;34m]\u001b[0m\u001b[0;34m\u001b[0m\u001b[0m\n\u001b[0m",
      "\u001b[0;31mNameError\u001b[0m: name 'X' is not defined"
     ]
    }
   ],
   "source": [
    "X_overall = X[: , ind_overall]"
   ]
  },
  {
   "cell_type": "code",
   "execution_count": 11,
   "metadata": {},
   "outputs": [],
   "source": [
    "# Select feature columns for each dataset\n",
    "val_overall = [x for i, x in enumerate(model_overa.coef_) if x > 0]\n",
    "val_appear = [x for i, x in enumerate(model_appear.coef_) if x > 0]\n",
    "val_aroma = [x for i, x in enumerate(model_aroma.coef_) if x > 0]\n",
    "val_palate = [x for i, x in enumerate(model_palate.coef_) if x > 0]\n",
    "val_taste = [x for i, x in enumerate(model_taste.coef_) if x > 0]"
   ]
  },
  {
   "cell_type": "code",
   "execution_count": 13,
   "metadata": {},
   "outputs": [],
   "source": [
    "# Select the columns for each variable\n",
    "c_overall = X_d.columns[ind_overall]\n",
    "c_appear = X_d.columns[ind_appear]\n",
    "c_aroma = X_d.columns[ind_aroma]\n",
    "c_palate = X_d.columns[ind_palate]\n",
    "c_taste = X_d.columns[ind_taste]"
   ]
  },
  {
   "cell_type": "code",
   "execution_count": 21,
   "metadata": {},
   "outputs": [
    {
     "data": {
      "text/plain": [
       "[['4', 0.20135295592135088],\n",
       " ['0', 0.1829140470448018],\n",
       " ['B.O.R.I.S. The Crusher Oatmeal-Imperial Stout', 0.13550272469162847],\n",
       " ['brwid__14', 0.13162676095766418],\n",
       " ['brwid__1454', 0.1243205088187188],\n",
       " ['brwid__263', 0.12410224477741939],\n",
       " ['2', 0.11046050708099424],\n",
       " ['1', 0.1100914976733267],\n",
       " ['3', 0.10662886709842426],\n",
       " ['Founders Breakfast Stout', 0.10385133447832097],\n",
       " ['Founders Imperial Stout', 0.10260235982677376],\n",
       " ['brwid__1199', 0.1013157337890763],\n",
       " ['Barrel Aged B.O.R.I.S. Oatmeal Imperial Stout', 0.097218268499220536],\n",
       " ['Pilsner Urquell', 0.093368229101479405],\n",
       " ['Okocim Porter', 0.08379299933667568],\n",
       " ['Founders RÃ¼bÃ¦us', 0.074137019363073708],\n",
       " ['Founders KBS (Kentucky Breakfast Stout)', 0.073699862645055486],\n",
       " ['D.O.R.I.S. The Destroyer Double Imperial Stout', 0.073093047035445904],\n",
       " ['Founders CBS Imperial Stout', 0.065309870920728999],\n",
       " ['brwid__394', 0.062650854421503338],\n",
       " ['5 Day IPA', 0.054425318882469119],\n",
       " ['brwid__14879', 0.051313155377314908],\n",
       " ['Founders Porter', 0.044078648202758509],\n",
       " ['brwid__1315', 0.036204777446337433],\n",
       " ['brwid__1075', 0.027501064236710955],\n",
       " ['Caldera IPA', 0.026277639077393788],\n",
       " ['mday__20.0', 0.025918720482415898],\n",
       " ['beer/ABV', 0.025136708402948276],\n",
       " [\"Founders Red's Rye PA\", 0.023658467677409815],\n",
       " ['Pike Street XXXXX Stout', 0.022103553263170199],\n",
       " [\"Stoudt's Gold Lager\", 0.016093513728884061],\n",
       " ['mday__24.0', 0.015514562967229133],\n",
       " ['American Pale Ale', 0.014900877271987441],\n",
       " ['hr__23.0', 0.014315718591780957],\n",
       " ['brwid__16386', 0.011948261662667048],\n",
       " ['brwid__1417', 0.011483122481288867],\n",
       " ['mon__6.0', 0.0078163567847911296],\n",
       " ['brwid__365', 0.0077758249491821285],\n",
       " ['yr__2010.0', 0.0073213797859067739],\n",
       " ['brwid__1', 0.0060692501706451699],\n",
       " ['hr__4.0', 0.0059068528504281825],\n",
       " ['yr__2006.0', 0.0058955100792844745],\n",
       " ['Weltenburger Kloster Asam-Bock', 0.0044464240119529439],\n",
       " ['wday__0.0', 0.003988810328171632],\n",
       " ['mday__29.0', 0.0035233526111357297],\n",
       " ['mday__21.0', 0.0031897385520715778],\n",
       " ['mday__7.0', 0.003059704152583225],\n",
       " ['hr__16.0', 0.0024707692598909792],\n",
       " ['mon__3.0', 0.0022268842887817534],\n",
       " ['brwid__9020', 0.0014031837380146031],\n",
       " ['wday__6.0', 0.0011496658961511863]]"
      ]
     },
     "execution_count": 21,
     "metadata": {},
     "output_type": "execute_result"
    }
   ],
   "source": [
    "s_palate = [[a, b] for a,b in zip(c_palate, val_palate)]\n",
    "sorted(s_palate, key = lambda x: x[1], reverse=True)"
   ]
  },
  {
   "cell_type": "code",
   "execution_count": null,
   "metadata": {},
   "outputs": [],
   "source": []
  }
 ],
 "metadata": {
  "kernelspec": {
   "display_name": "Python 3",
   "language": "python",
   "name": "python3"
  },
  "language_info": {
   "codemirror_mode": {
    "name": "ipython",
    "version": 3
   },
   "file_extension": ".py",
   "mimetype": "text/x-python",
   "name": "python",
   "nbconvert_exporter": "python",
   "pygments_lexer": "ipython3",
   "version": "3.6.5"
  }
 },
 "nbformat": 4,
 "nbformat_minor": 2
}
